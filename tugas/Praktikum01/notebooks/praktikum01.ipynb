{
 "cells": [
  {
   "cell_type": "code",
   "execution_count": 4,
   "id": "6c42a55f",
   "metadata": {},
   "outputs": [
    {
     "data": {
      "text/html": [
       "<div>\n",
       "<style scoped>\n",
       "    .dataframe tbody tr th:only-of-type {\n",
       "        vertical-align: middle;\n",
       "    }\n",
       "\n",
       "    .dataframe tbody tr th {\n",
       "        vertical-align: top;\n",
       "    }\n",
       "\n",
       "    .dataframe thead th {\n",
       "        text-align: right;\n",
       "    }\n",
       "</style>\n",
       "<table border=\"1\" class=\"dataframe\">\n",
       "  <thead>\n",
       "    <tr style=\"text-align: right;\">\n",
       "      <th></th>\n",
       "      <th>sumber</th>\n",
       "      <th>tanggal</th>\n",
       "      <th>kategori</th>\n",
       "      <th>judul</th>\n",
       "      <th>isi</th>\n",
       "      <th>link</th>\n",
       "      <th>jumlahkata</th>\n",
       "    </tr>\n",
       "  </thead>\n",
       "  <tbody>\n",
       "    <tr>\n",
       "      <th>0</th>\n",
       "      <td>kompas.com</td>\n",
       "      <td>2015/07/01</td>\n",
       "      <td>Teknologi</td>\n",
       "      <td>Ponsel Huawei Honor 4C Dibanderol Rp 2,2 Juta</td>\n",
       "      <td>JAKARTA, KOMPAS.com  Ponsel Android Huawei Hon...</td>\n",
       "      <td>http://tekno.kompas.com/read/xml/2015/07/01/18...</td>\n",
       "      <td>315</td>\n",
       "    </tr>\n",
       "    <tr>\n",
       "      <th>1</th>\n",
       "      <td>kompas.com</td>\n",
       "      <td>2015/07/01</td>\n",
       "      <td>Teknologi</td>\n",
       "      <td>Asosiasi: RPP E-commerce Tidak Sesuai Hasil Di...</td>\n",
       "      <td>JAKARTA, KOMPAS.com - Sejak 2013, wacana tenta...</td>\n",
       "      <td>http://tekno.kompas.com/read/xml/2015/07/01/16...</td>\n",
       "      <td>419</td>\n",
       "    </tr>\n",
       "    <tr>\n",
       "      <th>2</th>\n",
       "      <td>kompas.com</td>\n",
       "      <td>2015/07/01</td>\n",
       "      <td>Teknologi</td>\n",
       "      <td>Pemesan \"iPhone Jadi Sabun\" Karyawan Pesaing L...</td>\n",
       "      <td>JAKARTA, KOMPAS.com Danis Darusman, pelanggan ...</td>\n",
       "      <td>http://tekno.kompas.com/read/xml/2015/07/01/15...</td>\n",
       "      <td>265</td>\n",
       "    </tr>\n",
       "    <tr>\n",
       "      <th>3</th>\n",
       "      <td>kompas.com</td>\n",
       "      <td>2015/07/01</td>\n",
       "      <td>Teknologi</td>\n",
       "      <td>\"Autofeather Failure\", Momok bagi Pesawat Bali...</td>\n",
       "      <td>KOMPAS.com Salah satu momok yang dihadapi dala...</td>\n",
       "      <td>http://tekno.kompas.com/read/xml/2015/07/01/14...</td>\n",
       "      <td>481</td>\n",
       "    </tr>\n",
       "    <tr>\n",
       "      <th>4</th>\n",
       "      <td>kompas.com</td>\n",
       "      <td>2015/07/01</td>\n",
       "      <td>Teknologi</td>\n",
       "      <td>Laptop Bezel Tertipis di Dunia Masuk Indonesia</td>\n",
       "      <td>JAKARTA, KOMPAS.com - Resmi diperkenalkan pada...</td>\n",
       "      <td>http://tekno.kompas.com/read/xml/2015/07/01/14...</td>\n",
       "      <td>227</td>\n",
       "    </tr>\n",
       "  </tbody>\n",
       "</table>\n",
       "</div>"
      ],
      "text/plain": [
       "       sumber     tanggal   kategori  \\\n",
       "0  kompas.com  2015/07/01  Teknologi   \n",
       "1  kompas.com  2015/07/01  Teknologi   \n",
       "2  kompas.com  2015/07/01  Teknologi   \n",
       "3  kompas.com  2015/07/01  Teknologi   \n",
       "4  kompas.com  2015/07/01  Teknologi   \n",
       "\n",
       "                                               judul  \\\n",
       "0      Ponsel Huawei Honor 4C Dibanderol Rp 2,2 Juta   \n",
       "1  Asosiasi: RPP E-commerce Tidak Sesuai Hasil Di...   \n",
       "2  Pemesan \"iPhone Jadi Sabun\" Karyawan Pesaing L...   \n",
       "3  \"Autofeather Failure\", Momok bagi Pesawat Bali...   \n",
       "4     Laptop Bezel Tertipis di Dunia Masuk Indonesia   \n",
       "\n",
       "                                                 isi  \\\n",
       "0  JAKARTA, KOMPAS.com  Ponsel Android Huawei Hon...   \n",
       "1  JAKARTA, KOMPAS.com - Sejak 2013, wacana tenta...   \n",
       "2  JAKARTA, KOMPAS.com Danis Darusman, pelanggan ...   \n",
       "3  KOMPAS.com Salah satu momok yang dihadapi dala...   \n",
       "4  JAKARTA, KOMPAS.com - Resmi diperkenalkan pada...   \n",
       "\n",
       "                                                link  jumlahkata  \n",
       "0  http://tekno.kompas.com/read/xml/2015/07/01/18...         315  \n",
       "1  http://tekno.kompas.com/read/xml/2015/07/01/16...         419  \n",
       "2  http://tekno.kompas.com/read/xml/2015/07/01/15...         265  \n",
       "3  http://tekno.kompas.com/read/xml/2015/07/01/14...         481  \n",
       "4  http://tekno.kompas.com/read/xml/2015/07/01/14...         227  "
      ]
     },
     "execution_count": 4,
     "metadata": {},
     "output_type": "execute_result"
    }
   ],
   "source": [
    "import pandas as pd\n",
    "\n",
    "df = pd.read_xml('../data/kompas-beritaPart1.xml')\n",
    "df.head()"
   ]
  },
  {
   "cell_type": "markdown",
   "id": "a236de06",
   "metadata": {},
   "source": [
    "Ekplorasi Data"
   ]
  },
  {
   "cell_type": "code",
   "execution_count": 5,
   "id": "efe6fb93",
   "metadata": {},
   "outputs": [
    {
     "name": "stdout",
     "output_type": "stream",
     "text": [
      "<class 'pandas.core.frame.DataFrame'>\n",
      "RangeIndex: 1502 entries, 0 to 1501\n",
      "Data columns (total 7 columns):\n",
      " #   Column      Non-Null Count  Dtype \n",
      "---  ------      --------------  ----- \n",
      " 0   sumber      1502 non-null   object\n",
      " 1   tanggal     1502 non-null   object\n",
      " 2   kategori    1502 non-null   object\n",
      " 3   judul       1502 non-null   object\n",
      " 4   isi         1502 non-null   object\n",
      " 5   link        1502 non-null   object\n",
      " 6   jumlahkata  1502 non-null   int64 \n",
      "dtypes: int64(1), object(6)\n",
      "memory usage: 82.3+ KB\n"
     ]
    }
   ],
   "source": [
    "df.info()"
   ]
  },
  {
   "cell_type": "code",
   "execution_count": 6,
   "id": "066fe970",
   "metadata": {},
   "outputs": [
    {
     "data": {
      "text/plain": [
       "sumber        0\n",
       "tanggal       0\n",
       "kategori      0\n",
       "judul         0\n",
       "isi           0\n",
       "link          0\n",
       "jumlahkata    0\n",
       "dtype: int64"
      ]
     },
     "execution_count": 6,
     "metadata": {},
     "output_type": "execute_result"
    }
   ],
   "source": [
    "df.isnull().sum()"
   ]
  },
  {
   "cell_type": "code",
   "execution_count": 7,
   "id": "f9028990",
   "metadata": {},
   "outputs": [
    {
     "data": {
      "text/plain": [
       "np.int64(0)"
      ]
     },
     "execution_count": 7,
     "metadata": {},
     "output_type": "execute_result"
    }
   ],
   "source": [
    "df.duplicated().sum()"
   ]
  },
  {
   "cell_type": "markdown",
   "id": "24d15401",
   "metadata": {},
   "source": [
    "Data Cleaning"
   ]
  },
  {
   "cell_type": "code",
   "execution_count": 8,
   "id": "ffb5e507",
   "metadata": {},
   "outputs": [
    {
     "name": "stdout",
     "output_type": "stream",
     "text": [
      "Original Text: Terima kasih, kak! Kamu sangat baik sekali kepadaku hari ini.\n",
      "case Folding Text: terima kasih, kak! kamu sangat baik sekali kepadaku hari ini.\n"
     ]
    }
   ],
   "source": [
    "def caseFolding(text):\n",
    "    text = text.lower()\n",
    "    return text\n",
    "\n",
    "contoh =\"Terima kasih, kak! Kamu sangat baik sekali kepadaku hari ini.\"\n",
    "print(f'Original Text: {contoh}')\n",
    "print(f'case Folding Text: {caseFolding(contoh)}')"
   ]
  },
  {
   "cell_type": "markdown",
   "id": "9778ce4c",
   "metadata": {},
   "source": [
    "Punctuation Removal"
   ]
  },
  {
   "cell_type": "code",
   "execution_count": 9,
   "id": "60a44b9c",
   "metadata": {},
   "outputs": [
    {
     "name": "stdout",
     "output_type": "stream",
     "text": [
      "Original Text: Terima kasih, kak! Kamu sangat baik sekali kepadaku hari ini.\n",
      "Punctuation Removal Text: Terima kasih kak Kamu sangat baik sekali kepadaku hari ini\n"
     ]
    }
   ],
   "source": [
    "import re\n",
    "\n",
    "def punctuationRemoval(text):\n",
    "    text = re.sub(r'[^\\w\\s]', '', text)\n",
    "    return text\n",
    "\n",
    "contoh = \"Terima kasih, kak! Kamu sangat baik sekali kepadaku hari ini.\"\n",
    "print(f'Original Text: {contoh}')\n",
    "print(f'Punctuation Removal Text: {punctuationRemoval(contoh)}')"
   ]
  }
 ],
 "metadata": {
  "kernelspec": {
   "display_name": "Python 3",
   "language": "python",
   "name": "python3"
  },
  "language_info": {
   "codemirror_mode": {
    "name": "ipython",
    "version": 3
   },
   "file_extension": ".py",
   "mimetype": "text/x-python",
   "name": "python",
   "nbconvert_exporter": "python",
   "pygments_lexer": "ipython3",
   "version": "3.13.7"
  }
 },
 "nbformat": 4,
 "nbformat_minor": 5
}
